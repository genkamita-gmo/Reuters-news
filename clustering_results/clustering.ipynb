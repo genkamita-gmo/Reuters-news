{
 "cells": [
  {
   "cell_type": "code",
   "execution_count": 1,
   "metadata": {
    "collapsed": false
   },
   "outputs": [
    {
     "ename": "NameError",
     "evalue": "name 'docve' is not defined",
     "output_type": "error",
     "traceback": [
      "\u001b[0;31m---------------------------------------------------------------------------\u001b[0m",
      "\u001b[0;31mNameError\u001b[0m                                 Traceback (most recent call last)",
      "\u001b[0;32m<ipython-input-1-2c488e0198c7>\u001b[0m in \u001b[0;36m<module>\u001b[0;34m()\u001b[0m\n\u001b[1;32m     25\u001b[0m \u001b[0;32melse\u001b[0m\u001b[0;34m:\u001b[0m\u001b[0;34m\u001b[0m\u001b[0m\n\u001b[1;32m     26\u001b[0m     \u001b[0mX\u001b[0m \u001b[0;34m=\u001b[0m \u001b[0mnp\u001b[0m\u001b[0;34m.\u001b[0m\u001b[0mload\u001b[0m\u001b[0;34m(\u001b[0m\u001b[0mdocvec_file\u001b[0m\u001b[0;34m)\u001b[0m\u001b[0;34m\u001b[0m\u001b[0m\n\u001b[0;32m---> 27\u001b[0;31m     \u001b[0mkmeans\u001b[0m \u001b[0;34m=\u001b[0m \u001b[0mKMeans\u001b[0m\u001b[0;34m(\u001b[0m\u001b[0mn_clusters\u001b[0m\u001b[0;34m=\u001b[0m\u001b[0;36m2\u001b[0m\u001b[0;34m,\u001b[0m \u001b[0mrandom_state\u001b[0m\u001b[0;34m=\u001b[0m\u001b[0;36m0\u001b[0m\u001b[0;34m)\u001b[0m\u001b[0;34m.\u001b[0m\u001b[0mfit\u001b[0m\u001b[0;34m(\u001b[0m\u001b[0mdocve\u001b[0m\u001b[0;34m)\u001b[0m\u001b[0;34m\u001b[0m\u001b[0m\n\u001b[0m\u001b[1;32m     28\u001b[0m \u001b[0;34m\u001b[0m\u001b[0m\n\u001b[1;32m     29\u001b[0m \u001b[0mnews_randpick_index\u001b[0m \u001b[0;34m=\u001b[0m \u001b[0mnp\u001b[0m\u001b[0;34m.\u001b[0m\u001b[0mrandom\u001b[0m\u001b[0;34m.\u001b[0m\u001b[0mrandint\u001b[0m\u001b[0;34m(\u001b[0m\u001b[0;36m0\u001b[0m\u001b[0;34m,\u001b[0m\u001b[0mnum_lines_in_corpus\u001b[0m\u001b[0;34m-\u001b[0m\u001b[0;36m1\u001b[0m\u001b[0;34m,\u001b[0m\u001b[0mnum_randpick\u001b[0m\u001b[0;34m)\u001b[0m\u001b[0;34m\u001b[0m\u001b[0m\n",
      "\u001b[0;31mNameError\u001b[0m: name 'docve' is not defined"
     ]
    }
   ],
   "source": [
    "import numpy as np\n",
    "import matplotlib.pyplot as plt\n",
    "from sklearn.cluster import KMeans\n",
    "from sklearn.decomposition import PCA\n",
    "import pprint as pp\n",
    "\n",
    "def corpusNumLines():\n",
    "    num_lines_in_corpus = !wc -l $corpus_train_file | sed \"s/$corpus_train_file//g;\"\n",
    "    num_lines_in_corpus = int(num_lines_in_corpus.s)\n",
    "    return num_lines_in_corpus\n",
    "\n",
    "#  parameters\n",
    "docvec_file = \"docvec60000\"\n",
    "docvec = np.load(docvec_file)\n",
    "corpus_train_file = \"split60000aa\"\n",
    "num_cluster = 3\n",
    "num_lines_in_corpus = corpusNumLines()\n",
    "num_randpick = 50\n",
    "dimensionality_reduction = 1\n",
    "\n",
    "if dimensionality_reduction is True:\n",
    "    reduced_data = PCA(n_components=2).fit_transform(docvec)\n",
    "    kmeans = KMeans(init='k-means++', n_clusters = num_cluster)\n",
    "    fit_reduced_data = kmeans.fit(reduced_data, n_init=20)\n",
    "else:\n",
    "    X = np.load(docvec_file)\n",
    "    kmeans = KMeans(n_clusters=num_cluster).fit(docve)\n",
    "\n",
    "news_randpick_index = np.random.randint(0,num_lines_in_corpus-1,num_randpick)\n",
    "news_randpick_label = fit_reduced_data.labels_[news_randpick_index]\n",
    "# sort them according to label\n",
    "news_randpick_label, news_randpick_index = (list(t) for t in zip(*sorted(zip(news_randpick_label, news_randpick_index))))\n",
    "\n",
    "news_randpick_title = []\n",
    "for num in news_randpick_index:\n",
    "    title = !sed -n \"$num\"p $corpus_train_file\n",
    "    news_randpick_title.append(title)\n",
    "\n",
    "for num in range(num_cluster):\n",
    "    print(\"cluster \" + str(num) + \": ---------------------------------------\")\n",
    "    count = sum(i == num for i in news_randpick_label)\n",
    "    pp.pprint(news_randpick_title[0:count])\n",
    "    news_randpick_title = news_randpick_title[count:]\n",
    "\n",
    "\n",
    "if dimensionality_reduction is True:\n",
    "    for num in range(num_cluster):\n",
    "        condition = fit_reduced_data.labels_ == num\n",
    "        filtered_reduced_data_x = reduced_data[condition,0]\n",
    "        filtered_reduced_data_y = reduced_data[condition,1]\n",
    "        plt.plot(filtered_reduced_data_x, filtered_reduced_data_y, '.', markersize=0.5)\n",
    "\n",
    "    plt.plot(reduced_data[news_randpick_index, 0], reduced_data[news_randpick_index, 1], 'k.')\n",
    "    plt.show()\n"
   ]
  },
  {
   "cell_type": "code",
   "execution_count": null,
   "metadata": {
    "collapsed": true
   },
   "outputs": [],
   "source": []
  }
 ],
 "metadata": {
  "kernelspec": {
   "display_name": "Python 2",
   "language": "python",
   "name": "python2"
  },
  "language_info": {
   "codemirror_mode": {
    "name": "ipython",
    "version": 2
   },
   "file_extension": ".py",
   "mimetype": "text/x-python",
   "name": "python",
   "nbconvert_exporter": "python",
   "pygments_lexer": "ipython2",
   "version": "2.7.13"
  }
 },
 "nbformat": 4,
 "nbformat_minor": 2
}
